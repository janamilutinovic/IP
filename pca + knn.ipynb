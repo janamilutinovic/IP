{
 "cells": [
  {
   "cell_type": "code",
   "execution_count": 27,
   "id": "95ab1df7",
   "metadata": {},
   "outputs": [],
   "source": [
    "import pandas as pd\n",
    "import sklearn.preprocessing as prep\n",
    "import sklearn.metrics as met\n",
    "from sklearn.model_selection import train_test_split, GridSearchCV\n",
    "from sklearn.neighbors import KNeighborsClassifier\n",
    "import matplotlib.pyplot as plt\n",
    "from sklearn.decomposition import PCA"
   ]
  },
  {
   "cell_type": "code",
   "execution_count": 28,
   "id": "6f436596",
   "metadata": {},
   "outputs": [],
   "source": [
    "df = pd.read_csv('car.csv')\n",
    "features = df.columns[1:]\n",
    "\n",
    "x_orig = df[features]\n",
    "y = df['class']\n",
    "\n",
    "#normalizacija\n",
    "x = pd.DataFrame(prep.MinMaxScaler().fit_transform(x_orig), columns = features)\n"
   ]
  },
  {
   "cell_type": "code",
   "execution_count": 29,
   "id": "c4c312b4",
   "metadata": {},
   "outputs": [],
   "source": [
    "x_train, x_test, y_train, y_test = train_test_split(x, y, test_size = 0.3, stratify=y)"
   ]
  },
  {
   "cell_type": "code",
   "execution_count": 49,
   "id": "e8f30e15",
   "metadata": {
    "scrolled": true
   },
   "outputs": [
    {
     "name": "stdout",
     "output_type": "stream",
     "text": [
      "{'n_neighbors': 20, 'p': 1, 'weights': 'distance'}\n",
      "0.7572815533980582\n",
      "[[20  4  0  0]\n",
      " [ 0 40  5  0]\n",
      " [ 0 11 18  0]\n",
      " [ 0  0  5  0]]\n",
      "              precision    recall  f1-score   support\n",
      "\n",
      "           A       1.00      0.83      0.91        24\n",
      "           B       0.73      0.89      0.80        45\n",
      "           C       0.64      0.62      0.63        29\n",
      "           D       0.00      0.00      0.00         5\n",
      "\n",
      "    accuracy                           0.76       103\n",
      "   macro avg       0.59      0.59      0.59       103\n",
      "weighted avg       0.73      0.76      0.74       103\n",
      "\n",
      "1.0\n",
      "[[ 57   0   0   0]\n",
      " [  0 104   0   0]\n",
      " [  0   0  66   0]\n",
      " [  0   0   0  12]]\n",
      "              precision    recall  f1-score   support\n",
      "\n",
      "           A       1.00      1.00      1.00        57\n",
      "           B       1.00      1.00      1.00       104\n",
      "           C       1.00      1.00      1.00        66\n",
      "           D       1.00      1.00      1.00        12\n",
      "\n",
      "    accuracy                           1.00       239\n",
      "   macro avg       1.00      1.00      1.00       239\n",
      "weighted avg       1.00      1.00      1.00       239\n",
      "\n"
     ]
    },
    {
     "name": "stderr",
     "output_type": "stream",
     "text": [
      "/srv/conda/envs/notebook/lib/python3.6/site-packages/sklearn/metrics/_classification.py:1248: UndefinedMetricWarning: Precision and F-score are ill-defined and being set to 0.0 in labels with no predicted samples. Use `zero_division` parameter to control this behavior.\n",
      "  _warn_prf(average, modifier, msg_start, len(result))\n",
      "/srv/conda/envs/notebook/lib/python3.6/site-packages/sklearn/metrics/_classification.py:1248: UndefinedMetricWarning: Precision and F-score are ill-defined and being set to 0.0 in labels with no predicted samples. Use `zero_division` parameter to control this behavior.\n",
      "  _warn_prf(average, modifier, msg_start, len(result))\n",
      "/srv/conda/envs/notebook/lib/python3.6/site-packages/sklearn/metrics/_classification.py:1248: UndefinedMetricWarning: Precision and F-score are ill-defined and being set to 0.0 in labels with no predicted samples. Use `zero_division` parameter to control this behavior.\n",
      "  _warn_prf(average, modifier, msg_start, len(result))\n"
     ]
    }
   ],
   "source": [
    "#params za knn\n",
    "params = [{\n",
    "    'n_neighbors' : [3,20,2],\n",
    "    'p' : [1,2],\n",
    "    'weights' :['uniform', 'distance']\n",
    "}]\n",
    "\n",
    "\n",
    "clf.fit(x_train, y_train)\n",
    "print(clf.best_params_)\n",
    "\n",
    "y_pred = clf.predict(x_test)\n",
    "print(met.accuracy_score(y_test, y_pred))\n",
    "print(met.confusion_matrix(y_test, y_pred))\n",
    "print(met.classification_report(y_test, y_pred))\n",
    "\n",
    "\n",
    "y_pre = clf.predict(x_train)\n",
    "print(met.accuracy_score(y_train, y_pre))\n",
    "print(met.confusion_matrix(y_train, y_pre))\n",
    "print(met.classification_report(y_train, y_pre))"
   ]
  },
  {
   "cell_type": "code",
   "execution_count": 50,
   "id": "9578890d",
   "metadata": {},
   "outputs": [],
   "source": [
    "#pca\n",
    "pca = PCA()\n",
    "pca.fit(x)\n",
    "\n",
    "x_pca = pd.DataFrame(pca.transform(x))\n",
    "x_pca.columns = ['pca%d'%i for i in range(1, pca.n_components_+1)]\n"
   ]
  },
  {
   "cell_type": "code",
   "execution_count": 51,
   "id": "f573a7b8",
   "metadata": {},
   "outputs": [
    {
     "name": "stdout",
     "output_type": "stream",
     "text": [
      "pca1 0.8095655824\n",
      "pca2 0.1465791004\n",
      "pca3 0.0266284558\n",
      "pca4 0.0105570363\n",
      "pca5 0.0066698251\n"
     ]
    }
   ],
   "source": [
    "for i, ev in zip(range(1, pca.n_components_+1), pca.explained_variance_ratio_):\n",
    "    print(\"pca%d %.10f\"%(i,ev))"
   ]
  },
  {
   "cell_type": "code",
   "execution_count": 70,
   "id": "a98902d6",
   "metadata": {},
   "outputs": [
    {
     "data": {
      "image/png": "[encoded data removed]",
      "text/plain": [
       "<Figure size 432x288 with 1 Axes>"
      ]
     },
     "metadata": {
      "needs_background": "light"
     },
     "output_type": "display_data"
    }
   ],
   "source": [
    "x_pca['predicted'] = y\n",
    "classes =  y.unique()\n",
    "\n",
    "for i, clas in zip(range(0, len(classes)) , classes):\n",
    "    cls_smpl = x_pca.iloc[y[y == clas].index]\n",
    "    plt.scatter(cls_smpl['pca1'], cls_smpl['pca2'])\n",
    "    \n",
    "plt.show()"
   ]
  },
  {
   "cell_type": "code",
   "execution_count": null,
   "id": "24d5be6d",
   "metadata": {},
   "outputs": [],
   "source": []
  },
  {
   "cell_type": "code",
   "execution_count": null,
   "id": "8793ab8c",
   "metadata": {},
   "outputs": [],
   "source": []
  },
  {
   "cell_type": "code",
   "execution_count": null,
   "id": "3ff760b0",
   "metadata": {},
   "outputs": [],
   "source": []
  },
  {
   "cell_type": "code",
   "execution_count": null,
   "id": "a051c633",
   "metadata": {},
   "outputs": [],
   "source": []
  },
  {
   "cell_type": "code",
   "execution_count": null,
   "id": "f3448f6f",
   "metadata": {},
   "outputs": [],
   "source": []
  },
  {
   "cell_type": "code",
   "execution_count": null,
   "id": "39767b43",
   "metadata": {},
   "outputs": [],
   "source": []
  },
  {
   "cell_type": "code",
   "execution_count": null,
   "id": "f974542b",
   "metadata": {},
   "outputs": [],
   "source": []
  },
  {
   "cell_type": "code",
   "execution_count": null,
   "id": "feed8892",
   "metadata": {},
   "outputs": [],
   "source": []
  },
  {
   "cell_type": "code",
   "execution_count": null,
   "id": "908cfe8a",
   "metadata": {},
   "outputs": [],
   "source": []
  },
  {
   "cell_type": "code",
   "execution_count": null,
   "id": "0b42ee24",
   "metadata": {},
   "outputs": [],
   "source": []
  },
  {
   "cell_type": "code",
   "execution_count": null,
   "id": "ef3b6391",
   "metadata": {},
   "outputs": [],
   "source": []
  },
  {
   "cell_type": "code",
   "execution_count": null,
   "id": "ad3a093c",
   "metadata": {},
   "outputs": [],
   "source": []
  },
  {
   "cell_type": "code",
   "execution_count": null,
   "id": "5d6e987e",
   "metadata": {},
   "outputs": [],
   "source": []
  },
  {
   "cell_type": "code",
   "execution_count": null,
   "id": "783d3e48",
   "metadata": {},
   "outputs": [],
   "source": []
  },
  {
   "cell_type": "code",
   "execution_count": null,
   "id": "bec5f276",
   "metadata": {},
   "outputs": [],
   "source": []
  },
  {
   "cell_type": "code",
   "execution_count": null,
   "id": "79d9af3a",
   "metadata": {},
   "outputs": [],
   "source": []
  },
  {
   "cell_type": "code",
   "execution_count": null,
   "id": "0f010cbf",
   "metadata": {},
   "outputs": [],
   "source": []
  },
  {
   "cell_type": "code",
   "execution_count": null,
   "id": "04e88a41",
   "metadata": {},
   "outputs": [],
   "source": []
  },
  {
   "cell_type": "code",
   "execution_count": null,
   "id": "3e1b4db2",
   "metadata": {},
   "outputs": [],
   "source": []
  },
  {
   "cell_type": "code",
   "execution_count": null,
   "id": "67895d97",
   "metadata": {},
   "outputs": [],
   "source": []
  },
  {
   "cell_type": "code",
   "execution_count": null,
   "id": "14aaed18",
   "metadata": {},
   "outputs": [],
   "source": []
  },
  {
   "cell_type": "code",
   "execution_count": null,
   "id": "3bfb5566",
   "metadata": {},
   "outputs": [],
   "source": []
  },
  {
   "cell_type": "code",
   "execution_count": null,
   "id": "2462d8d5",
   "metadata": {},
   "outputs": [],
   "source": []
  },
  {
   "cell_type": "code",
   "execution_count": null,
   "id": "fd454561",
   "metadata": {},
   "outputs": [],
   "source": []
  },
  {
   "cell_type": "code",
   "execution_count": null,
   "id": "5873217a",
   "metadata": {},
   "outputs": [],
   "source": []
  },
  {
   "cell_type": "code",
   "execution_count": null,
   "id": "7d8e57e7",
   "metadata": {},
   "outputs": [],
   "source": []
  },
  {
   "cell_type": "code",
   "execution_count": null,
   "id": "5963ea6a",
   "metadata": {},
   "outputs": [],
   "source": []
  },
  {
   "cell_type": "code",
   "execution_count": null,
   "id": "32a98c38",
   "metadata": {},
   "outputs": [],
   "source": []
  },
  {
   "cell_type": "code",
   "execution_count": null,
   "id": "6ab9f1de",
   "metadata": {},
   "outputs": [],
   "source": []
  },
  {
   "cell_type": "code",
   "execution_count": null,
   "id": "8469193d",
   "metadata": {},
   "outputs": [],
   "source": []
  },
  {
   "cell_type": "code",
   "execution_count": null,
   "id": "10d04f9c",
   "metadata": {},
   "outputs": [],
   "source": []
  },
  {
   "cell_type": "code",
   "execution_count": null,
   "id": "4abe019e",
   "metadata": {},
   "outputs": [],
   "source": []
  },
  {
   "cell_type": "code",
   "execution_count": null,
   "id": "b62e2838",
   "metadata": {},
   "outputs": [],
   "source": []
  },
  {
   "cell_type": "code",
   "execution_count": null,
   "id": "892908ed",
   "metadata": {},
   "outputs": [],
   "source": []
  },
  {
   "cell_type": "code",
   "execution_count": null,
   "id": "54ffedc8",
   "metadata": {},
   "outputs": [],
   "source": []
  },
  {
   "cell_type": "code",
   "execution_count": null,
   "id": "7d64a2f2",
   "metadata": {},
   "outputs": [],
   "source": []
  },
  {
   "cell_type": "code",
   "execution_count": null,
   "id": "0086e396",
   "metadata": {},
   "outputs": [],
   "source": []
  },
  {
   "cell_type": "code",
   "execution_count": null,
   "id": "71d05a53",
   "metadata": {},
   "outputs": [],
   "source": []
  },
  {
   "cell_type": "code",
   "execution_count": null,
   "id": "3af24c11",
   "metadata": {},
   "outputs": [],
   "source": []
  },
  {
   "cell_type": "code",
   "execution_count": 43,
   "id": "27cb702d",
   "metadata": {},
   "outputs": [
    {
     "name": "stdout",
     "output_type": "stream",
     "text": [
      "Prvih 5 instanci\n",
      "  class  cylinders  displacement  horsepower  weight  acceleration\n",
      "0     B          8           307         130    3504          12.0\n",
      "1     A          8           350         165    3693          11.5\n",
      "2     B          8           318         150    3436          11.0\n",
      "3     A          8           304         150    3433          12.0\n",
      "4     A          8           302         140    3449          10.5\n",
      "\n",
      "Opis podataka\n",
      "        cylinders  displacement  horsepower       weight  acceleration\n",
      "count  342.000000    342.000000  342.000000   342.000000    342.000000\n",
      "mean     5.429825    191.008772  102.745614  2970.365497     15.643860\n",
      "std      1.698555    102.326758   36.704050   830.014100      2.684878\n",
      "min      3.000000     68.000000   46.000000  1649.000000      8.500000\n",
      "25%      4.000000    105.000000   75.000000  2223.750000     13.925000\n",
      "50%      4.000000    146.000000   92.000000  2811.000000     15.500000\n",
      "75%      8.000000    260.000000  121.500000  3611.000000     17.175000\n",
      "max      8.000000    455.000000  230.000000  4997.000000     24.800000\n",
      "\n",
      "Klase\n",
      "B    149\n",
      "C     95\n",
      "A     81\n",
      "D     17\n",
      "Name: class, dtype: int64\n",
      "\n",
      "explained_variance_ratio_  \n",
      "pca1: 0.8095655824\n",
      "pca2: 0.1465791004\n",
      "\n",
      "Originalan skup \n",
      "\n",
      "Najbolji parametri:\n",
      "{'n_neighbors': 13, 'p': 1, 'weights': 'distance'}\n",
      "\n",
      "Izvestaj za trening skup:\n",
      "Preciznost:  1.0\n",
      "\n",
      "Matrica konfuzije\n",
      "    A    B   C   D\n",
      "A  57    0   0   0\n",
      "B   0  104   0   0\n",
      "C   0    0  66   0\n",
      "D   0    0   0  12\n",
      "\n",
      "Izvestaj za test skup:\n",
      "Preciznost:  0.7281553398058253\n",
      "\n",
      "Matrica konfuzije\n",
      "    A   B   C  D\n",
      "A  17   7   0  0\n",
      "B   4  35   6  0\n",
      "C   0   6  23  0\n",
      "D   0   1   4  0\n",
      "\n",
      "PCA \n",
      "\n",
      "Najbolji parametri:\n",
      "{'n_neighbors': 7, 'p': 1, 'weights': 'uniform'}\n",
      "\n",
      "Izvestaj za trening skup:\n",
      "Preciznost:  0.7866108786610879\n",
      "\n",
      "Matrica konfuzije\n",
      "    A   B   C  D\n",
      "A  48   9   0  0\n",
      "B   5  86  12  1\n",
      "C   0  14  52  0\n",
      "D   0   1   9  2\n",
      "\n",
      "Izvestaj za test skup:\n",
      "Preciznost:  0.7087378640776699\n",
      "\n",
      "Matrica konfuzije\n",
      "    A   B   C  D\n",
      "A  22   2   0  0\n",
      "B   4  33   8  0\n",
      "C   0  11  18  0\n",
      "D   0   0   5  0\n",
      "\n"
     ]
    },
    {
     "name": "stderr",
     "output_type": "stream",
     "text": [
      "/srv/conda/envs/notebook/lib/python3.6/site-packages/ipykernel_launcher.py:62: SettingWithCopyWarning: \n",
      "A value is trying to be set on a copy of a slice from a DataFrame.\n",
      "Try using .loc[row_indexer,col_indexer] = value instead\n",
      "\n",
      "See the caveats in the documentation: https://pandas.pydata.org/pandas-docs/stable/user_guide/indexing.html#returning-a-view-versus-a-copy\n"
     ]
    },
    {
     "data": {
      "image/png": "[encoded data removed]",
      "text/plain": [
       "<Figure size 432x288 with 1 Axes>"
      ]
     },
     "metadata": {
      "needs_background": "light"
     },
     "output_type": "display_data"
    }
   ],
   "source": [
    "import pandas as pd\n",
    "from sklearn.model_selection import train_test_split, GridSearchCV\n",
    "from sklearn import preprocessing\n",
    "from sklearn.neighbors import  KNeighborsClassifier\n",
    "from sklearn.decomposition import PCA\n",
    "import matplotlib.pyplot as plt\n",
    "import sklearn.metrics as met\n",
    "\n",
    "#funkcija za klasifikaciju skupa\n",
    "def classification(message, x_arg, y_arg):\n",
    "\n",
    "    print(message, '\\n')\n",
    "\n",
    "    # podela na trening i test skup\n",
    "    x_train, x_test, y_train, y_test = train_test_split(x_arg, y_arg, test_size=0.3, stratify=y)\n",
    "\n",
    "    # vrednosti parametara algoritma KNN za unakrsnu validacuju\n",
    "    parameters = [{'n_neighbors': range(3, 20, 2),\n",
    "                   'p': [1, 2],\n",
    "                   'weights': ['uniform', 'distance']\n",
    "                   }]\n",
    "\n",
    "    #primena unakrsne validacije\n",
    "    clf = GridSearchCV(KNeighborsClassifier(), parameters, cv=10)\n",
    "    clf.fit(x_train, y_train)\n",
    "\n",
    "    print(\"Najbolji parametri:\")\n",
    "    print(clf.best_params_)\n",
    "    print()\n",
    "\n",
    "    print(\"Izvestaj za trening skup:\")\n",
    "    y_pred =clf.predict(x_train)\n",
    "    print('Preciznost: ', met.accuracy_score(y_train, y_pred))\n",
    "    print()\n",
    "\n",
    "    print(\"Matrica konfuzije\",\n",
    "          pd.DataFrame(met.confusion_matrix(y_train, y_pred),\n",
    "                       index=clf.classes_,\n",
    "                       columns=clf.classes_),\n",
    "          sep=\"\\n\")\n",
    "    print()\n",
    "\n",
    "    print(\"Izvestaj za test skup:\")\n",
    "    y_pred =clf.predict(x_test)\n",
    "    print('Preciznost: ', met.accuracy_score(y_test, y_pred))\n",
    "    print()\n",
    "\n",
    "    print(\"Matrica konfuzije\",\n",
    "          pd.DataFrame(met.confusion_matrix(y_test, y_pred),\n",
    "                       index=clf.classes_,\n",
    "                       columns=clf.classes_),\n",
    "          sep=\"\\n\")\n",
    "    print()\n",
    "\n",
    "    #Graficki prikaz test skupa pomocu rasprsenih elemenata\n",
    "    #koriscenjem prve dve glavne komponente.\n",
    "    #Svakoj klasi se dodeljuje odredjena boja, a instance na slici\n",
    "    #se obelezavaju bojom na osnovu klase koja im je dodeljena.\n",
    "    if message == 'PCA':\n",
    "        colors = ['red', 'blue', 'gold',  'm', 'plum', 'orange', 'black']\n",
    "        x_test.is_copy=False\n",
    "        x_test['predicted'] = y_pred\n",
    "        classes =x_test['predicted'].unique()\n",
    "        for i, class_value in zip(range(0, len(classes)), classes):\n",
    "            class_samples = x_test.loc[lambda s: s['predicted'] == class_value, :]\n",
    "            plt.scatter(class_samples['pca1'], class_samples['pca2'], color=colors[i],\n",
    "                        s=10, marker='o', label=\"class %s\" % class_value)\n",
    "\n",
    "        plt.title('PCA & klasifikacija')\n",
    "        plt.xlabel('pca1')\n",
    "        plt.ylabel('pca2')\n",
    "        plt.legend(loc='upper right')\n",
    "        plt.show()\n",
    "\n",
    "\n",
    "if __name__ == '__main__':\n",
    "\n",
    "    #ucitavanje skupa\n",
    "    df = pd.read_csv(\"car.csv\")\n",
    "\n",
    "    #prikaz imena kolona + 5 prvih instanci\n",
    "    print('Prvih 5 instanci', df.head(), sep='\\n')\n",
    "    print()\n",
    "\n",
    "    print('Opis podataka')\n",
    "    print(df.describe())\n",
    "    print()\n",
    "\n",
    "    #prikaz broja instanci po klasama\n",
    "    print('Klase')\n",
    "    print(df[\"class\"].value_counts())\n",
    "    print()\n",
    "\n",
    "    #priprema skupa za klasifikaciju - razdvajanje opisa instanci i njihovih klasa\n",
    "    features=df.columns[1:]\n",
    "    x=df[features]\n",
    "    y=df[\"class\"]\n",
    "\n",
    "    num_features = x.shape[1]\n",
    "\n",
    "    #standardizacija podataka\n",
    "    scaler = preprocessing.StandardScaler().fit(x)\n",
    "    x =pd.DataFrame(scaler.transform(x))\n",
    "    x.columns = features\n",
    "\n",
    "    #primena pca\n",
    "    #pca=PCA()\n",
    "    pca=PCA(n_components=2)\n",
    "    pca.fit(x)\n",
    "    x_pca = pd.DataFrame(pca.transform(x))\n",
    "\n",
    "    #promena imena kolona skupu dobijenom nakon pca transformacije\n",
    "    pca_columns = ['pca%d'%i for i in range(1, pca.n_components_+1)]\n",
    "    x_pca.columns=pca_columns\n",
    "\n",
    "    # procenat varijanse objasnjen svakom od izabranih glavnih komponenti\n",
    "    print('explained_variance_ratio_  ')\n",
    "    for i, evr in zip(range(1, num_features+1), pca.explained_variance_ratio_):\n",
    "        print(\"pca%d: %.10f\"%(i,evr))\n",
    "    print()\n",
    "\n",
    "    classification('Originalan skup', x, y)\n",
    "    classification('PCA', x_pca, y)"
   ]
  },
  {
   "cell_type": "code",
   "execution_count": null,
   "id": "2a8b469a",
   "metadata": {},
   "outputs": [],
   "source": []
  },
  {
   "cell_type": "code",
   "execution_count": null,
   "id": "3d804eb5",
   "metadata": {},
   "outputs": [],
   "source": []
  },
  {
   "cell_type": "code",
   "execution_count": null,
   "id": "bdb2667b",
   "metadata": {},
   "outputs": [],
   "source": []
  }
 ],
 "metadata": {
  "kernelspec": {
   "display_name": "Python 3",
   "language": "python",
   "name": "python3"
  },
  "language_info": {
   "codemirror_mode": {
    "name": "ipython",
    "version": 3
   },
   "file_extension": ".py",
   "mimetype": "text/x-python",
   "name": "python",
   "nbconvert_exporter": "python",
   "pygments_lexer": "ipython3",
   "version": "3.6.13"
  }
 },
 "nbformat": 4,
 "nbformat_minor": 5
}
