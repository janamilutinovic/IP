{
 "cells": [
  {
   "cell_type": "code",
   "execution_count": 18,
   "id": "3a2c7c1b",
   "metadata": {},
   "outputs": [],
   "source": [
    "import pandas as pd\n",
    "import sklearn.metrics as met\n",
    "import sklearn.preprocessing as prep\n",
    "from sklearn.model_selection import train_test_split, GridSearchCV\n",
    "from sklearn.naive_bayes import MultinomialNB\n",
    "from sklearn.feature_extraction.text import CountVectorizer, TfidfVectorizer"
   ]
  },
  {
   "cell_type": "code",
   "execution_count": 3,
   "id": "ad41e3a7",
   "metadata": {},
   "outputs": [],
   "source": [
    "podaci = [\n",
    "     'Chinese Beijing Chinese', \n",
    "'Chinese Chinese Shangha' ,\n",
    "'Chinese Macao' ,\n",
    "'Tokyo Japan Chinese' \n",
    "]\n",
    "\n",
    "classes = ['yes', 'yes', 'yes', 'no']"
   ]
  },
  {
   "cell_type": "code",
   "execution_count": 23,
   "id": "960e50b8",
   "metadata": {},
   "outputs": [],
   "source": [
    "#pravljenje term-matrice sa brojem pojavljivanja reci\n",
    "vectorizer = CountVectorizer()\n",
    "x_train = vectorizer.fit_transform(podaci)\n",
    "features = vectorizer.get_feature_names()\n",
    "\n",
    "#pravljenje term-matrice sa tf-idf merom\n",
    "tfidf = TfidfVectorizer()\n",
    "x_train_t = tfidf.fit_transform(podaci)"
   ]
  },
  {
   "cell_type": "code",
   "execution_count": 24,
   "id": "f50162d9",
   "metadata": {},
   "outputs": [
    {
     "name": "stdout",
     "output_type": "stream",
     "text": [
      "['beijing', 'chinese', 'japan', 'macao', 'shangha', 'tokyo']\n",
      "                         beijing  chinese  japan  macao  shangha  tokyo\n",
      "Chinese Beijing Chinese        1        2      0      0        0      0\n",
      "Chinese Chinese Shangha        0        2      0      0        1      0\n",
      "Chinese Macao                  0        1      0      1        0      0\n",
      "Tokyo Japan Chinese            0        1      1      0        0      1\n"
     ]
    }
   ],
   "source": [
    "print(vectorizer.get_feature_names())\n",
    "print(pd.DataFrame(x_train.toarray(), index = podaci, columns = vectorizer.get_feature_names()))"
   ]
  },
  {
   "cell_type": "code",
   "execution_count": 28,
   "id": "b1233d30",
   "metadata": {},
   "outputs": [
    {
     "name": "stdout",
     "output_type": "stream",
     "text": [
      "[1. 3.]\n",
      "     beijing  chinese  japan  macao  shangha  tokyo\n",
      "no       0.0      1.0    1.0    0.0      0.0    1.0\n",
      "yes      1.0      5.0    0.0    1.0      1.0    0.0\n"
     ]
    }
   ],
   "source": [
    "#pravljenje modela alg Multinom NB na trening skup\n",
    "clf = MultinomialNB()\n",
    "clf.fit(x_train, classes)\n",
    "\n",
    "print(clf.class_count_)\n",
    "print(pd.DataFrame(clf.feature_count_,index = clf.classes_, columns = features))"
   ]
  },
  {
   "cell_type": "code",
   "execution_count": 30,
   "id": "24f1da07",
   "metadata": {},
   "outputs": [
    {
     "data": {
      "text/plain": [
       "array(['yes'], dtype='<U3')"
      ]
     },
     "execution_count": 30,
     "metadata": {},
     "output_type": "execute_result"
    }
   ],
   "source": [
    "#transformisanje test instance u term-matricu\n",
    "x_test_text = ['=Chinese Chinese Chinese Tokyo Japan']\n",
    "x_test = vectorizer.transform(x_test_text)\n",
    "\n",
    "#klasifikacija test instance\n",
    "y_pred = clf.predict(x_test)\n",
    "y_pred"
   ]
  }
 ],
 "metadata": {
  "kernelspec": {
   "display_name": "Python 3",
   "language": "python",
   "name": "python3"
  },
  "language_info": {
   "codemirror_mode": {
    "name": "ipython",
    "version": 3
   },
   "file_extension": ".py",
   "mimetype": "text/x-python",
   "name": "python",
   "nbconvert_exporter": "python",
   "pygments_lexer": "ipython3",
   "version": "3.6.13"
  }
 },
 "nbformat": 4,
 "nbformat_minor": 5
}
